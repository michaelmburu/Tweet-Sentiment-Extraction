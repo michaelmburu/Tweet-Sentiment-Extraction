{
  "cells": [
    {
      "metadata": {
        "trusted": true
      },
      "cell_type": "code",
      "source": "import sys, string, re, csv, nltk, codecs, numpy as np, pandas as pd\nimport matplotlib.pyplot as plt\n%matplotlib inline\nfrom sklearn.preprocessing import LabelEncoder\nfrom keras.preprocessing.text import Tokenizer\nfrom keras.preprocessing.sequence import pad_sequences\nfrom keras.layers import Dense, Input, LSTM, Embedding, Dropout, Activation\nfrom keras.layers import Bidirectional, GlobalMaxPool1D\nfrom keras.models import Model\nfrom keras import initializers, regularizers, constraints, optimizers, layers\nnltk.download('stopwords')\nnltk.download('wordnet')\n\nstopwords = nltk.corpus.stopwords.words('english')",
      "execution_count": 1,
      "outputs": [
        {
          "output_type": "stream",
          "text": "Using TensorFlow backend.\n",
          "name": "stderr"
        },
        {
          "output_type": "stream",
          "text": "[nltk_data] Downloading package stopwords to /home/nbuser/nltk_data...\n[nltk_data]   Package stopwords is already up-to-date!\n[nltk_data] Downloading package wordnet to /home/nbuser/nltk_data...\n[nltk_data]   Package wordnet is already up-to-date!\n",
          "name": "stdout"
        }
      ]
    },
    {
      "metadata": {
        "trusted": true
      },
      "cell_type": "code",
      "source": "train_col_list = ['selected_text', 'sentiment']\ntest_col_list = ['textID', 'text', 'sentiment']\ntrain = pd.read_csv(\"train.csv\", usecols=train_col_list)\ntest = pd.read_csv(\"test.csv\", usecols=test_col_list)\nsubm = pd.read_csv(\"sample_submission.csv\")\ntrain.columns = ['body_text', 'label']\ntest.columns = ['id', 'body_text', 'label']\ntrain.head(10)",
      "execution_count": 2,
      "outputs": [
        {
          "output_type": "execute_result",
          "execution_count": 2,
          "data": {
            "text/html": "<div>\n<style scoped>\n    .dataframe tbody tr th:only-of-type {\n        vertical-align: middle;\n    }\n\n    .dataframe tbody tr th {\n        vertical-align: top;\n    }\n\n    .dataframe thead th {\n        text-align: right;\n    }\n</style>\n<table border=\"1\" class=\"dataframe\">\n  <thead>\n    <tr style=\"text-align: right;\">\n      <th></th>\n      <th>body_text</th>\n      <th>label</th>\n    </tr>\n  </thead>\n  <tbody>\n    <tr>\n      <th>0</th>\n      <td>I`d have responded, if I were going</td>\n      <td>neutral</td>\n    </tr>\n    <tr>\n      <th>1</th>\n      <td>Sooo SAD</td>\n      <td>negative</td>\n    </tr>\n    <tr>\n      <th>2</th>\n      <td>bullying me</td>\n      <td>negative</td>\n    </tr>\n    <tr>\n      <th>3</th>\n      <td>leave me alone</td>\n      <td>negative</td>\n    </tr>\n    <tr>\n      <th>4</th>\n      <td>Sons of ****,</td>\n      <td>negative</td>\n    </tr>\n    <tr>\n      <th>5</th>\n      <td>http://www.dothebouncy.com/smf - some shameles...</td>\n      <td>neutral</td>\n    </tr>\n    <tr>\n      <th>6</th>\n      <td>fun</td>\n      <td>positive</td>\n    </tr>\n    <tr>\n      <th>7</th>\n      <td>Soooo high</td>\n      <td>neutral</td>\n    </tr>\n    <tr>\n      <th>8</th>\n      <td>Both of you</td>\n      <td>neutral</td>\n    </tr>\n    <tr>\n      <th>9</th>\n      <td>Wow... u just became cooler.</td>\n      <td>positive</td>\n    </tr>\n  </tbody>\n</table>\n</div>",
            "text/plain": "                                           body_text     label\n0                I`d have responded, if I were going   neutral\n1                                           Sooo SAD  negative\n2                                        bullying me  negative\n3                                     leave me alone  negative\n4                                      Sons of ****,  negative\n5  http://www.dothebouncy.com/smf - some shameles...   neutral\n6                                                fun  positive\n7                                         Soooo high   neutral\n8                                        Both of you   neutral\n9                       Wow... u just became cooler.  positive"
          },
          "metadata": {}
        }
      ]
    },
    {
      "metadata": {
        "trusted": true
      },
      "cell_type": "code",
      "source": "\\\n",
      "execution_count": 3,
      "outputs": []
    },
    {
      "metadata": {
        "trusted": true
      },
      "cell_type": "code",
      "source": "le = LabelEncoder()\ntrain['label'] = le.fit_transform(train['label'])\ntrain.head(50)",
      "execution_count": 4,
      "outputs": [
        {
          "output_type": "execute_result",
          "execution_count": 4,
          "data": {
            "text/html": "<div>\n<style scoped>\n    .dataframe tbody tr th:only-of-type {\n        vertical-align: middle;\n    }\n\n    .dataframe tbody tr th {\n        vertical-align: top;\n    }\n\n    .dataframe thead th {\n        text-align: right;\n    }\n</style>\n<table border=\"1\" class=\"dataframe\">\n  <thead>\n    <tr style=\"text-align: right;\">\n      <th></th>\n      <th>body_text</th>\n      <th>label</th>\n    </tr>\n  </thead>\n  <tbody>\n    <tr>\n      <th>0</th>\n      <td>I`d have responded, if I were going</td>\n      <td>1</td>\n    </tr>\n    <tr>\n      <th>1</th>\n      <td>Sooo SAD</td>\n      <td>0</td>\n    </tr>\n    <tr>\n      <th>2</th>\n      <td>bullying me</td>\n      <td>0</td>\n    </tr>\n    <tr>\n      <th>3</th>\n      <td>leave me alone</td>\n      <td>0</td>\n    </tr>\n    <tr>\n      <th>4</th>\n      <td>Sons of ****,</td>\n      <td>0</td>\n    </tr>\n    <tr>\n      <th>5</th>\n      <td>http://www.dothebouncy.com/smf - some shameles...</td>\n      <td>1</td>\n    </tr>\n    <tr>\n      <th>6</th>\n      <td>fun</td>\n      <td>2</td>\n    </tr>\n    <tr>\n      <th>7</th>\n      <td>Soooo high</td>\n      <td>1</td>\n    </tr>\n    <tr>\n      <th>8</th>\n      <td>Both of you</td>\n      <td>1</td>\n    </tr>\n    <tr>\n      <th>9</th>\n      <td>Wow... u just became cooler.</td>\n      <td>2</td>\n    </tr>\n    <tr>\n      <th>10</th>\n      <td>as much as i love to be hopeful, i reckon the ...</td>\n      <td>1</td>\n    </tr>\n    <tr>\n      <th>11</th>\n      <td>like</td>\n      <td>2</td>\n    </tr>\n    <tr>\n      <th>12</th>\n      <td>DANGERously</td>\n      <td>0</td>\n    </tr>\n    <tr>\n      <th>13</th>\n      <td>lost</td>\n      <td>0</td>\n    </tr>\n    <tr>\n      <th>14</th>\n      <td>test test from the LG enV2</td>\n      <td>1</td>\n    </tr>\n    <tr>\n      <th>15</th>\n      <td>Uh oh, I am sunburned</td>\n      <td>0</td>\n    </tr>\n    <tr>\n      <th>16</th>\n      <td>*sigh*</td>\n      <td>0</td>\n    </tr>\n    <tr>\n      <th>17</th>\n      <td>sick</td>\n      <td>0</td>\n    </tr>\n    <tr>\n      <th>18</th>\n      <td>onna</td>\n      <td>0</td>\n    </tr>\n    <tr>\n      <th>19</th>\n      <td>Hes just not that into you</td>\n      <td>1</td>\n    </tr>\n    <tr>\n      <th>20</th>\n      <td>oh Marly, I`m so sorry!!  I hope you find her ...</td>\n      <td>1</td>\n    </tr>\n    <tr>\n      <th>21</th>\n      <td>interesting.</td>\n      <td>2</td>\n    </tr>\n    <tr>\n      <th>22</th>\n      <td>is cleaning the house for her family who is co...</td>\n      <td>1</td>\n    </tr>\n    <tr>\n      <th>23</th>\n      <td>gotta restart my computer .. I thought Win7 wa...</td>\n      <td>1</td>\n    </tr>\n    <tr>\n      <th>24</th>\n      <td>SEe waT I Mean bOuT FoLL0w fRiiDaYs... It`S cA...</td>\n      <td>1</td>\n    </tr>\n    <tr>\n      <th>25</th>\n      <td>the free fillin` app on my ipod is fun, im add...</td>\n      <td>2</td>\n    </tr>\n    <tr>\n      <th>26</th>\n      <td>I`m sorry.</td>\n      <td>0</td>\n    </tr>\n    <tr>\n      <th>27</th>\n      <td>.no internet</td>\n      <td>0</td>\n    </tr>\n    <tr>\n      <th>28</th>\n      <td>fun</td>\n      <td>2</td>\n    </tr>\n    <tr>\n      <th>29</th>\n      <td>Power back up not working too</td>\n      <td>0</td>\n    </tr>\n    <tr>\n      <th>30</th>\n      <td>Quite....heavenly</td>\n      <td>2</td>\n    </tr>\n    <tr>\n      <th>31</th>\n      <td>hope</td>\n      <td>2</td>\n    </tr>\n    <tr>\n      <th>32</th>\n      <td>well so much for being unhappy for about 10 mi...</td>\n      <td>0</td>\n    </tr>\n    <tr>\n      <th>33</th>\n      <td>funny.</td>\n      <td>2</td>\n    </tr>\n    <tr>\n      <th>34</th>\n      <td>Ahhh, I slept through the game.  I`m gonna try...</td>\n      <td>1</td>\n    </tr>\n    <tr>\n      <th>35</th>\n      <td>Thats it, its the end. Tears for Fears</td>\n      <td>1</td>\n    </tr>\n    <tr>\n      <th>36</th>\n      <td>miss</td>\n      <td>0</td>\n    </tr>\n    <tr>\n      <th>37</th>\n      <td>just in case you wonder, we are really busy to...</td>\n      <td>1</td>\n    </tr>\n    <tr>\n      <th>38</th>\n      <td>soooooo sleeeeepy!!!</td>\n      <td>0</td>\n    </tr>\n    <tr>\n      <th>39</th>\n      <td>A little happy fo</td>\n      <td>2</td>\n    </tr>\n    <tr>\n      <th>40</th>\n      <td>Car not happy, big big dent in boot! Hoping th...</td>\n      <td>1</td>\n    </tr>\n    <tr>\n      <th>41</th>\n      <td>avid fan of</td>\n      <td>2</td>\n    </tr>\n    <tr>\n      <th>42</th>\n      <td>MAYDAY?!</td>\n      <td>1</td>\n    </tr>\n    <tr>\n      <th>43</th>\n      <td>RATT ROCKED NASHVILLE TONITE..ONE THING SUCKED...</td>\n      <td>1</td>\n    </tr>\n    <tr>\n      <th>44</th>\n      <td>I love to!</td>\n      <td>2</td>\n    </tr>\n    <tr>\n      <th>45</th>\n      <td>The girl in the hair salon asked me 'Shall I t...</td>\n      <td>1</td>\n    </tr>\n    <tr>\n      <th>46</th>\n      <td>SUCKKKKKK</td>\n      <td>0</td>\n    </tr>\n    <tr>\n      <th>47</th>\n      <td>:visiting my friendster and facebook</td>\n      <td>1</td>\n    </tr>\n    <tr>\n      <th>48</th>\n      <td>dont like go</td>\n      <td>0</td>\n    </tr>\n    <tr>\n      <th>49</th>\n      <td>d I`m not thrilled at all with mine.</td>\n      <td>0</td>\n    </tr>\n  </tbody>\n</table>\n</div>",
            "text/plain": "                                            body_text  label\n0                 I`d have responded, if I were going      1\n1                                            Sooo SAD      0\n2                                         bullying me      0\n3                                      leave me alone      0\n4                                       Sons of ****,      0\n5   http://www.dothebouncy.com/smf - some shameles...      1\n6                                                 fun      2\n7                                          Soooo high      1\n8                                         Both of you      1\n9                        Wow... u just became cooler.      2\n10  as much as i love to be hopeful, i reckon the ...      1\n11                                               like      2\n12                                        DANGERously      0\n13                                               lost      0\n14                         test test from the LG enV2      1\n15                              Uh oh, I am sunburned      0\n16                                             *sigh*      0\n17                                               sick      0\n18                                               onna      0\n19                         Hes just not that into you      1\n20  oh Marly, I`m so sorry!!  I hope you find her ...      1\n21                                       interesting.      2\n22  is cleaning the house for her family who is co...      1\n23  gotta restart my computer .. I thought Win7 wa...      1\n24  SEe waT I Mean bOuT FoLL0w fRiiDaYs... It`S cA...      1\n25  the free fillin` app on my ipod is fun, im add...      2\n26                                         I`m sorry.      0\n27                                       .no internet      0\n28                                                fun      2\n29                      Power back up not working too      0\n30                                  Quite....heavenly      2\n31                                               hope      2\n32  well so much for being unhappy for about 10 mi...      0\n33                                             funny.      2\n34  Ahhh, I slept through the game.  I`m gonna try...      1\n35             Thats it, its the end. Tears for Fears      1\n36                                               miss      0\n37  just in case you wonder, we are really busy to...      1\n38                               soooooo sleeeeepy!!!      0\n39                                  A little happy fo      2\n40  Car not happy, big big dent in boot! Hoping th...      1\n41                                        avid fan of      2\n42                                           MAYDAY?!      1\n43  RATT ROCKED NASHVILLE TONITE..ONE THING SUCKED...      1\n44                                         I love to!      2\n45  The girl in the hair salon asked me 'Shall I t...      1\n46                                          SUCKKKKKK      0\n47               :visiting my friendster and facebook      1\n48                                       dont like go      0\n49               d I`m not thrilled at all with mine.      0"
          },
          "metadata": {}
        }
      ]
    },
    {
      "metadata": {
        "trusted": true
      },
      "cell_type": "code",
      "source": "train.isnull().any()",
      "execution_count": 5,
      "outputs": [
        {
          "output_type": "execute_result",
          "execution_count": 5,
          "data": {
            "text/plain": "body_text     True\nlabel        False\ndtype: bool"
          },
          "metadata": {}
        }
      ]
    },
    {
      "metadata": {
        "trusted": true
      },
      "cell_type": "code",
      "source": "dfnull = train[train.isna().any(axis=1)]\ndfnull",
      "execution_count": 6,
      "outputs": [
        {
          "output_type": "execute_result",
          "execution_count": 6,
          "data": {
            "text/html": "<div>\n<style scoped>\n    .dataframe tbody tr th:only-of-type {\n        vertical-align: middle;\n    }\n\n    .dataframe tbody tr th {\n        vertical-align: top;\n    }\n\n    .dataframe thead th {\n        text-align: right;\n    }\n</style>\n<table border=\"1\" class=\"dataframe\">\n  <thead>\n    <tr style=\"text-align: right;\">\n      <th></th>\n      <th>body_text</th>\n      <th>label</th>\n    </tr>\n  </thead>\n  <tbody>\n    <tr>\n      <th>314</th>\n      <td>NaN</td>\n      <td>1</td>\n    </tr>\n  </tbody>\n</table>\n</div>",
            "text/plain": "    body_text  label\n314       NaN      1"
          },
          "metadata": {}
        }
      ]
    },
    {
      "metadata": {
        "trusted": true
      },
      "cell_type": "code",
      "source": "train = train.dropna(how='any', axis=0)\ntrain",
      "execution_count": 7,
      "outputs": [
        {
          "output_type": "execute_result",
          "execution_count": 7,
          "data": {
            "text/html": "<div>\n<style scoped>\n    .dataframe tbody tr th:only-of-type {\n        vertical-align: middle;\n    }\n\n    .dataframe tbody tr th {\n        vertical-align: top;\n    }\n\n    .dataframe thead th {\n        text-align: right;\n    }\n</style>\n<table border=\"1\" class=\"dataframe\">\n  <thead>\n    <tr style=\"text-align: right;\">\n      <th></th>\n      <th>body_text</th>\n      <th>label</th>\n    </tr>\n  </thead>\n  <tbody>\n    <tr>\n      <th>0</th>\n      <td>I`d have responded, if I were going</td>\n      <td>1</td>\n    </tr>\n    <tr>\n      <th>1</th>\n      <td>Sooo SAD</td>\n      <td>0</td>\n    </tr>\n    <tr>\n      <th>2</th>\n      <td>bullying me</td>\n      <td>0</td>\n    </tr>\n    <tr>\n      <th>3</th>\n      <td>leave me alone</td>\n      <td>0</td>\n    </tr>\n    <tr>\n      <th>4</th>\n      <td>Sons of ****,</td>\n      <td>0</td>\n    </tr>\n    <tr>\n      <th>5</th>\n      <td>http://www.dothebouncy.com/smf - some shameles...</td>\n      <td>1</td>\n    </tr>\n    <tr>\n      <th>6</th>\n      <td>fun</td>\n      <td>2</td>\n    </tr>\n    <tr>\n      <th>7</th>\n      <td>Soooo high</td>\n      <td>1</td>\n    </tr>\n    <tr>\n      <th>8</th>\n      <td>Both of you</td>\n      <td>1</td>\n    </tr>\n    <tr>\n      <th>9</th>\n      <td>Wow... u just became cooler.</td>\n      <td>2</td>\n    </tr>\n    <tr>\n      <th>10</th>\n      <td>as much as i love to be hopeful, i reckon the ...</td>\n      <td>1</td>\n    </tr>\n    <tr>\n      <th>11</th>\n      <td>like</td>\n      <td>2</td>\n    </tr>\n    <tr>\n      <th>12</th>\n      <td>DANGERously</td>\n      <td>0</td>\n    </tr>\n    <tr>\n      <th>13</th>\n      <td>lost</td>\n      <td>0</td>\n    </tr>\n    <tr>\n      <th>14</th>\n      <td>test test from the LG enV2</td>\n      <td>1</td>\n    </tr>\n    <tr>\n      <th>15</th>\n      <td>Uh oh, I am sunburned</td>\n      <td>0</td>\n    </tr>\n    <tr>\n      <th>16</th>\n      <td>*sigh*</td>\n      <td>0</td>\n    </tr>\n    <tr>\n      <th>17</th>\n      <td>sick</td>\n      <td>0</td>\n    </tr>\n    <tr>\n      <th>18</th>\n      <td>onna</td>\n      <td>0</td>\n    </tr>\n    <tr>\n      <th>19</th>\n      <td>Hes just not that into you</td>\n      <td>1</td>\n    </tr>\n    <tr>\n      <th>20</th>\n      <td>oh Marly, I`m so sorry!!  I hope you find her ...</td>\n      <td>1</td>\n    </tr>\n    <tr>\n      <th>21</th>\n      <td>interesting.</td>\n      <td>2</td>\n    </tr>\n    <tr>\n      <th>22</th>\n      <td>is cleaning the house for her family who is co...</td>\n      <td>1</td>\n    </tr>\n    <tr>\n      <th>23</th>\n      <td>gotta restart my computer .. I thought Win7 wa...</td>\n      <td>1</td>\n    </tr>\n    <tr>\n      <th>24</th>\n      <td>SEe waT I Mean bOuT FoLL0w fRiiDaYs... It`S cA...</td>\n      <td>1</td>\n    </tr>\n    <tr>\n      <th>25</th>\n      <td>the free fillin` app on my ipod is fun, im add...</td>\n      <td>2</td>\n    </tr>\n    <tr>\n      <th>26</th>\n      <td>I`m sorry.</td>\n      <td>0</td>\n    </tr>\n    <tr>\n      <th>27</th>\n      <td>.no internet</td>\n      <td>0</td>\n    </tr>\n    <tr>\n      <th>28</th>\n      <td>fun</td>\n      <td>2</td>\n    </tr>\n    <tr>\n      <th>29</th>\n      <td>Power back up not working too</td>\n      <td>0</td>\n    </tr>\n    <tr>\n      <th>...</th>\n      <td>...</td>\n      <td>...</td>\n    </tr>\n    <tr>\n      <th>27451</th>\n      <td>happy all</td>\n      <td>2</td>\n    </tr>\n    <tr>\n      <th>27452</th>\n      <td>so much for a day off- I`ve been on my feet, a...</td>\n      <td>1</td>\n    </tr>\n    <tr>\n      <th>27453</th>\n      <td>it`s beeen onee year</td>\n      <td>1</td>\n    </tr>\n    <tr>\n      <th>27454</th>\n      <td>you`re proud of and you love eachother</td>\n      <td>2</td>\n    </tr>\n    <tr>\n      <th>27455</th>\n      <td>simple greetings from unexpected people can ac...</td>\n      <td>2</td>\n    </tr>\n    <tr>\n      <th>27456</th>\n      <td>wanna leave work al</td>\n      <td>0</td>\n    </tr>\n    <tr>\n      <th>27457</th>\n      <td>My camera is brokennn</td>\n      <td>1</td>\n    </tr>\n    <tr>\n      <th>27458</th>\n      <td>really wish</td>\n      <td>2</td>\n    </tr>\n    <tr>\n      <th>27459</th>\n      <td>good</td>\n      <td>2</td>\n    </tr>\n    <tr>\n      <th>27460</th>\n      <td>Scream just played on my iPod. First thing tha...</td>\n      <td>1</td>\n    </tr>\n    <tr>\n      <th>27461</th>\n      <td>thanks</td>\n      <td>2</td>\n    </tr>\n    <tr>\n      <th>27462</th>\n      <td>Fun</td>\n      <td>2</td>\n    </tr>\n    <tr>\n      <th>27463</th>\n      <td>MISS</td>\n      <td>0</td>\n    </tr>\n    <tr>\n      <th>27464</th>\n      <td>breakingg</td>\n      <td>0</td>\n    </tr>\n    <tr>\n      <th>27465</th>\n      <td>enjoy</td>\n      <td>2</td>\n    </tr>\n    <tr>\n      <th>27466</th>\n      <td>Naw.. it was pretty tame. Only 1 guy in costum...</td>\n      <td>1</td>\n    </tr>\n    <tr>\n      <th>27467</th>\n      <td>welcome</td>\n      <td>2</td>\n    </tr>\n    <tr>\n      <th>27468</th>\n      <td>few grilled mushrooms and olives, feta cheese ...</td>\n      <td>1</td>\n    </tr>\n    <tr>\n      <th>27469</th>\n      <td>94 more days till BH comes back to LA</td>\n      <td>1</td>\n    </tr>\n    <tr>\n      <th>27470</th>\n      <td>t bored</td>\n      <td>0</td>\n    </tr>\n    <tr>\n      <th>27471</th>\n      <td>i`m defying gravity. and nobody in alll of oz,...</td>\n      <td>1</td>\n    </tr>\n    <tr>\n      <th>27472</th>\n      <td>were too late</td>\n      <td>0</td>\n    </tr>\n    <tr>\n      <th>27473</th>\n      <td>in spoke to you yesterday and u didnt respond ...</td>\n      <td>1</td>\n    </tr>\n    <tr>\n      <th>27474</th>\n      <td>I feel good ab</td>\n      <td>2</td>\n    </tr>\n    <tr>\n      <th>27475</th>\n      <td>enjoy</td>\n      <td>2</td>\n    </tr>\n    <tr>\n      <th>27476</th>\n      <td>d lost</td>\n      <td>0</td>\n    </tr>\n    <tr>\n      <th>27477</th>\n      <td>, don`t force</td>\n      <td>0</td>\n    </tr>\n    <tr>\n      <th>27478</th>\n      <td>Yay good for both of you.</td>\n      <td>2</td>\n    </tr>\n    <tr>\n      <th>27479</th>\n      <td>But it was worth it  ****.</td>\n      <td>2</td>\n    </tr>\n    <tr>\n      <th>27480</th>\n      <td>All this flirting going on - The ATG smiles. Y...</td>\n      <td>1</td>\n    </tr>\n  </tbody>\n</table>\n<p>27480 rows × 2 columns</p>\n</div>",
            "text/plain": "                                               body_text  label\n0                    I`d have responded, if I were going      1\n1                                               Sooo SAD      0\n2                                            bullying me      0\n3                                         leave me alone      0\n4                                          Sons of ****,      0\n5      http://www.dothebouncy.com/smf - some shameles...      1\n6                                                    fun      2\n7                                             Soooo high      1\n8                                            Both of you      1\n9                           Wow... u just became cooler.      2\n10     as much as i love to be hopeful, i reckon the ...      1\n11                                                  like      2\n12                                           DANGERously      0\n13                                                  lost      0\n14                            test test from the LG enV2      1\n15                                 Uh oh, I am sunburned      0\n16                                                *sigh*      0\n17                                                  sick      0\n18                                                  onna      0\n19                            Hes just not that into you      1\n20     oh Marly, I`m so sorry!!  I hope you find her ...      1\n21                                          interesting.      2\n22     is cleaning the house for her family who is co...      1\n23     gotta restart my computer .. I thought Win7 wa...      1\n24     SEe waT I Mean bOuT FoLL0w fRiiDaYs... It`S cA...      1\n25     the free fillin` app on my ipod is fun, im add...      2\n26                                            I`m sorry.      0\n27                                          .no internet      0\n28                                                   fun      2\n29                         Power back up not working too      0\n...                                                  ...    ...\n27451                                          happy all      2\n27452  so much for a day off- I`ve been on my feet, a...      1\n27453                               it`s beeen onee year      1\n27454             you`re proud of and you love eachother      2\n27455  simple greetings from unexpected people can ac...      2\n27456                                wanna leave work al      0\n27457                              My camera is brokennn      1\n27458                                        really wish      2\n27459                                               good      2\n27460  Scream just played on my iPod. First thing tha...      1\n27461                                             thanks      2\n27462                                                Fun      2\n27463                                               MISS      0\n27464                                          breakingg      0\n27465                                              enjoy      2\n27466  Naw.. it was pretty tame. Only 1 guy in costum...      1\n27467                                            welcome      2\n27468  few grilled mushrooms and olives, feta cheese ...      1\n27469              94 more days till BH comes back to LA      1\n27470                                            t bored      0\n27471  i`m defying gravity. and nobody in alll of oz,...      1\n27472                                      were too late      0\n27473  in spoke to you yesterday and u didnt respond ...      1\n27474                                     I feel good ab      2\n27475                                              enjoy      2\n27476                                             d lost      0\n27477                                      , don`t force      0\n27478                          Yay good for both of you.      2\n27479                         But it was worth it  ****.      2\n27480  All this flirting going on - The ATG smiles. Y...      1\n\n[27480 rows x 2 columns]"
          },
          "metadata": {}
        }
      ]
    },
    {
      "metadata": {
        "trusted": true
      },
      "cell_type": "code",
      "source": "train.isnull().any()",
      "execution_count": 8,
      "outputs": [
        {
          "output_type": "execute_result",
          "execution_count": 8,
          "data": {
            "text/plain": "body_text    False\nlabel        False\ndtype: bool"
          },
          "metadata": {}
        }
      ]
    },
    {
      "metadata": {
        "trusted": true
      },
      "cell_type": "code",
      "source": "y = train['label']\nlist_sentences_train = train['body_text']\nlist_sentences_test = test['body_text']",
      "execution_count": 9,
      "outputs": []
    },
    {
      "metadata": {
        "trusted": true
      },
      "cell_type": "code",
      "source": "max_features = 20000\ntokenizer = Tokenizer(num_words=max_features)\ntokenizer.fit_on_texts(list(list_sentences_train))\nlist_tokenized_train = tokenizer.texts_to_sequences(list_sentences_train)\nlist_tokenized_test = tokenizer.texts_to_sequences(list_sentences_test)\n\n#Sneak peek into list tokenized training\nlist_tokenized_train[:1]",
      "execution_count": 10,
      "outputs": [
        {
          "output_type": "execute_result",
          "execution_count": 10,
          "data": {
            "text/plain": "[[1, 146, 19, 7030, 73, 1, 157, 46]]"
          },
          "metadata": {}
        }
      ]
    },
    {
      "metadata": {
        "trusted": true
      },
      "cell_type": "code",
      "source": "maxlen = 30\nX_t = pad_sequences(list_tokenized_train, maxlen=maxlen)\nX_te = pad_sequences(list_tokenized_test, maxlen=maxlen)",
      "execution_count": 11,
      "outputs": []
    },
    {
      "metadata": {
        "trusted": true
      },
      "cell_type": "code",
      "source": "totalNumWords = [len(one_comment) for one_comment in list_tokenized_train]\nplt.hist(totalNumWords, bins = np.arange(0, 50, 5))\nplt.show()",
      "execution_count": 12,
      "outputs": [
        {
          "output_type": "display_data",
          "data": {
            "image/png": "[encoded data removed]",
            "text/plain": "<Figure size 432x288 with 1 Axes>"
          },
          "metadata": {
            "needs_background": "light"
          }
        }
      ]
    },
    {
      "metadata": {
        "trusted": true
      },
      "cell_type": "code",
      "source": "inp = Input(shape=(maxlen, ))",
      "execution_count": 13,
      "outputs": []
    },
    {
      "metadata": {
        "trusted": true
      },
      "cell_type": "code",
      "source": "embed_size = 128\nx = Embedding(max_features, embed_size)(inp)",
      "execution_count": 14,
      "outputs": []
    },
    {
      "metadata": {
        "trusted": true
      },
      "cell_type": "code",
      "source": "x = LSTM(20, return_sequences=True, name='lstm_layer')(x)",
      "execution_count": 15,
      "outputs": []
    },
    {
      "metadata": {
        "trusted": true
      },
      "cell_type": "code",
      "source": "x = GlobalMaxPool1D()(x)",
      "execution_count": 16,
      "outputs": []
    },
    {
      "metadata": {
        "trusted": true
      },
      "cell_type": "code",
      "source": "x = Dropout(0.1)(x)",
      "execution_count": 17,
      "outputs": []
    },
    {
      "metadata": {
        "trusted": true
      },
      "cell_type": "code",
      "source": "x = Dense(50, activation='relu')(x)",
      "execution_count": 18,
      "outputs": []
    },
    {
      "metadata": {
        "trusted": true
      },
      "cell_type": "code",
      "source": "x = Dropout(0.1)(x)",
      "execution_count": 19,
      "outputs": []
    },
    {
      "metadata": {
        "trusted": true
      },
      "cell_type": "code",
      "source": "x = Dense(1, activation='sigmoid')(x)",
      "execution_count": 20,
      "outputs": []
    },
    {
      "metadata": {
        "trusted": true
      },
      "cell_type": "code",
      "source": "model = Model(input=inp, outputs=x)\nmodel.compile(loss='binary_crossentropy', optimizer='adam', metrics=['accuracy'])",
      "execution_count": 21,
      "outputs": [
        {
          "output_type": "stream",
          "text": "WARNING:tensorflow:From /home/nbuser/anaconda3_501/lib/python3.6/site-packages/tensorflow/python/ops/nn_impl.py:182: add_dispatch_support.<locals>.wrapper (from tensorflow.python.ops.array_ops) is deprecated and will be removed in a future version.\nInstructions for updating:\nUse tf.where in 2.0, which has the same broadcast rule as np.where\n",
          "name": "stdout"
        },
        {
          "output_type": "stream",
          "text": "/home/nbuser/anaconda3_501/lib/python3.6/site-packages/ipykernel/__main__.py:1: UserWarning: Update your `Model` call to the Keras 2 API: `Model(outputs=Tensor(\"de..., inputs=Tensor(\"in...)`\n  if __name__ == '__main__':\n",
          "name": "stderr"
        }
      ]
    },
    {
      "metadata": {
        "trusted": true
      },
      "cell_type": "code",
      "source": "batch_size = 32\nepochs = 2\nmodel.fit(X_t, y, batch_size=batch_size, epochs=epochs, validation_split=0.1)",
      "execution_count": 22,
      "outputs": [
        {
          "output_type": "stream",
          "text": "/home/nbuser/anaconda3_501/lib/python3.6/site-packages/tensorflow/python/framework/indexed_slices.py:414: UserWarning: Converting sparse IndexedSlices to a dense Tensor of unknown shape. This may consume a large amount of memory.\n  \"Converting sparse IndexedSlices to a dense Tensor of unknown shape. \"\n",
          "name": "stderr"
        },
        {
          "output_type": "stream",
          "text": "Train on 24732 samples, validate on 2748 samples\nEpoch 1/2\n24732/24732 [==============================] - 67s 3ms/step - loss: -24.2570 - accuracy: 0.4252 - val_loss: -88.3117 - val_accuracy: 0.4596\nEpoch 2/2\n24732/24732 [==============================] - 65s 3ms/step - loss: -327.9824 - accuracy: 0.4937 - val_loss: -481.2246 - val_accuracy: 0.5677\n",
          "name": "stdout"
        },
        {
          "output_type": "execute_result",
          "execution_count": 22,
          "data": {
            "text/plain": "<keras.callbacks.callbacks.History at 0x7f1120aa4128>"
          },
          "metadata": {}
        }
      ]
    },
    {
      "metadata": {
        "trusted": true
      },
      "cell_type": "code",
      "source": "model.summary()",
      "execution_count": 23,
      "outputs": [
        {
          "output_type": "stream",
          "text": "Model: \"model_1\"\n_________________________________________________________________\nLayer (type)                 Output Shape              Param #   \n=================================================================\ninput_1 (InputLayer)         (None, 30)                0         \n_________________________________________________________________\nembedding_1 (Embedding)      (None, 30, 128)           2560000   \n_________________________________________________________________\nlstm_layer (LSTM)            (None, 30, 20)            11920     \n_________________________________________________________________\nglobal_max_pooling1d_1 (Glob (None, 20)                0         \n_________________________________________________________________\ndropout_1 (Dropout)          (None, 20)                0         \n_________________________________________________________________\ndense_1 (Dense)              (None, 50)                1050      \n_________________________________________________________________\ndropout_2 (Dropout)          (None, 50)                0         \n_________________________________________________________________\ndense_2 (Dense)              (None, 1)                 51        \n=================================================================\nTotal params: 2,573,021\nTrainable params: 2,573,021\nNon-trainable params: 0\n_________________________________________________________________\n",
          "name": "stdout"
        }
      ]
    },
    {
      "metadata": {
        "trusted": true
      },
      "cell_type": "code",
      "source": "predictions = model.predict(X_te)\npredictions",
      "execution_count": 24,
      "outputs": [
        {
          "output_type": "execute_result",
          "execution_count": 24,
          "data": {
            "text/plain": "array([[1.        ],\n       [1.        ],\n       [0.15072611],\n       ...,\n       [1.        ],\n       [1.        ],\n       [1.        ]], dtype=float32)"
          },
          "metadata": {}
        }
      ]
    },
    {
      "metadata": {
        "trusted": true
      },
      "cell_type": "code",
      "source": "label_cols = ['selected_text']\nsubmid = pd.DataFrame({'id': subm[\"textID\"]})\nsubmission = pd.concat([submid, pd.DataFrame(predictions, columns = label_cols)], axis=1)\nsubmission.to_csv('Submission-Keras.csv', index=False)\nsubmission",
      "execution_count": 25,
      "outputs": [
        {
          "output_type": "execute_result",
          "execution_count": 25,
          "data": {
            "text/html": "<div>\n<style scoped>\n    .dataframe tbody tr th:only-of-type {\n        vertical-align: middle;\n    }\n\n    .dataframe tbody tr th {\n        vertical-align: top;\n    }\n\n    .dataframe thead th {\n        text-align: right;\n    }\n</style>\n<table border=\"1\" class=\"dataframe\">\n  <thead>\n    <tr style=\"text-align: right;\">\n      <th></th>\n      <th>id</th>\n      <th>selected_text</th>\n    </tr>\n  </thead>\n  <tbody>\n    <tr>\n      <th>0</th>\n      <td>f87dea47db</td>\n      <td>1.000000</td>\n    </tr>\n    <tr>\n      <th>1</th>\n      <td>96d74cb729</td>\n      <td>1.000000</td>\n    </tr>\n    <tr>\n      <th>2</th>\n      <td>eee518ae67</td>\n      <td>0.150726</td>\n    </tr>\n    <tr>\n      <th>3</th>\n      <td>01082688c6</td>\n      <td>1.000000</td>\n    </tr>\n    <tr>\n      <th>4</th>\n      <td>33987a8ee5</td>\n      <td>1.000000</td>\n    </tr>\n    <tr>\n      <th>5</th>\n      <td>726e501993</td>\n      <td>1.000000</td>\n    </tr>\n    <tr>\n      <th>6</th>\n      <td>261932614e</td>\n      <td>1.000000</td>\n    </tr>\n    <tr>\n      <th>7</th>\n      <td>afa11da83f</td>\n      <td>1.000000</td>\n    </tr>\n    <tr>\n      <th>8</th>\n      <td>e64208b4ef</td>\n      <td>1.000000</td>\n    </tr>\n    <tr>\n      <th>9</th>\n      <td>37bcad24ca</td>\n      <td>1.000000</td>\n    </tr>\n    <tr>\n      <th>10</th>\n      <td>24c92644a4</td>\n      <td>1.000000</td>\n    </tr>\n    <tr>\n      <th>11</th>\n      <td>43b390b336</td>\n      <td>0.029607</td>\n    </tr>\n    <tr>\n      <th>12</th>\n      <td>69d6b5d93e</td>\n      <td>1.000000</td>\n    </tr>\n    <tr>\n      <th>13</th>\n      <td>5c1e0b61a1</td>\n      <td>1.000000</td>\n    </tr>\n    <tr>\n      <th>14</th>\n      <td>504e45d9d9</td>\n      <td>1.000000</td>\n    </tr>\n    <tr>\n      <th>15</th>\n      <td>ae93ad52a0</td>\n      <td>0.000026</td>\n    </tr>\n    <tr>\n      <th>16</th>\n      <td>9fce30159a</td>\n      <td>0.000000</td>\n    </tr>\n    <tr>\n      <th>17</th>\n      <td>00d5195223</td>\n      <td>0.774203</td>\n    </tr>\n    <tr>\n      <th>18</th>\n      <td>33f19050cf</td>\n      <td>1.000000</td>\n    </tr>\n    <tr>\n      <th>19</th>\n      <td>f7718b3c23</td>\n      <td>1.000000</td>\n    </tr>\n    <tr>\n      <th>20</th>\n      <td>9ef44428d0</td>\n      <td>0.000000</td>\n    </tr>\n    <tr>\n      <th>21</th>\n      <td>be634ebeb0</td>\n      <td>0.000000</td>\n    </tr>\n    <tr>\n      <th>22</th>\n      <td>3dcf4f7e13</td>\n      <td>1.000000</td>\n    </tr>\n    <tr>\n      <th>23</th>\n      <td>f0ef04109b</td>\n      <td>1.000000</td>\n    </tr>\n    <tr>\n      <th>24</th>\n      <td>8be365118e</td>\n      <td>1.000000</td>\n    </tr>\n    <tr>\n      <th>25</th>\n      <td>c50bdd4567</td>\n      <td>1.000000</td>\n    </tr>\n    <tr>\n      <th>26</th>\n      <td>334954f215</td>\n      <td>1.000000</td>\n    </tr>\n    <tr>\n      <th>27</th>\n      <td>b783916431</td>\n      <td>1.000000</td>\n    </tr>\n    <tr>\n      <th>28</th>\n      <td>1fa8e6ad66</td>\n      <td>1.000000</td>\n    </tr>\n    <tr>\n      <th>29</th>\n      <td>be38b29042</td>\n      <td>1.000000</td>\n    </tr>\n    <tr>\n      <th>...</th>\n      <td>...</td>\n      <td>...</td>\n    </tr>\n    <tr>\n      <th>3504</th>\n      <td>fa117106ef</td>\n      <td>1.000000</td>\n    </tr>\n    <tr>\n      <th>3505</th>\n      <td>f66bda14c6</td>\n      <td>1.000000</td>\n    </tr>\n    <tr>\n      <th>3506</th>\n      <td>cf3dafabb3</td>\n      <td>0.999983</td>\n    </tr>\n    <tr>\n      <th>3507</th>\n      <td>242910ff98</td>\n      <td>1.000000</td>\n    </tr>\n    <tr>\n      <th>3508</th>\n      <td>60e5c2c335</td>\n      <td>1.000000</td>\n    </tr>\n    <tr>\n      <th>3509</th>\n      <td>72b5155719</td>\n      <td>1.000000</td>\n    </tr>\n    <tr>\n      <th>3510</th>\n      <td>bbfe533366</td>\n      <td>1.000000</td>\n    </tr>\n    <tr>\n      <th>3511</th>\n      <td>4cb0ab19ed</td>\n      <td>1.000000</td>\n    </tr>\n    <tr>\n      <th>3512</th>\n      <td>58e2a00ab8</td>\n      <td>0.000005</td>\n    </tr>\n    <tr>\n      <th>3513</th>\n      <td>0a0e2a4f78</td>\n      <td>1.000000</td>\n    </tr>\n    <tr>\n      <th>3514</th>\n      <td>975554343f</td>\n      <td>1.000000</td>\n    </tr>\n    <tr>\n      <th>3515</th>\n      <td>c7be378db2</td>\n      <td>1.000000</td>\n    </tr>\n    <tr>\n      <th>3516</th>\n      <td>87737f8e62</td>\n      <td>0.000000</td>\n    </tr>\n    <tr>\n      <th>3517</th>\n      <td>558fe1316b</td>\n      <td>1.000000</td>\n    </tr>\n    <tr>\n      <th>3518</th>\n      <td>a6687519e2</td>\n      <td>1.000000</td>\n    </tr>\n    <tr>\n      <th>3519</th>\n      <td>91f8e27d4c</td>\n      <td>1.000000</td>\n    </tr>\n    <tr>\n      <th>3520</th>\n      <td>9a10e4813f</td>\n      <td>1.000000</td>\n    </tr>\n    <tr>\n      <th>3521</th>\n      <td>2b31cedc6d</td>\n      <td>1.000000</td>\n    </tr>\n    <tr>\n      <th>3522</th>\n      <td>db783cf66a</td>\n      <td>0.003176</td>\n    </tr>\n    <tr>\n      <th>3523</th>\n      <td>036cd6abb0</td>\n      <td>1.000000</td>\n    </tr>\n    <tr>\n      <th>3524</th>\n      <td>e965e50c60</td>\n      <td>1.000000</td>\n    </tr>\n    <tr>\n      <th>3525</th>\n      <td>b1c36b70a4</td>\n      <td>1.000000</td>\n    </tr>\n    <tr>\n      <th>3526</th>\n      <td>4d2de9d1af</td>\n      <td>1.000000</td>\n    </tr>\n    <tr>\n      <th>3527</th>\n      <td>0c2e7ab834</td>\n      <td>1.000000</td>\n    </tr>\n    <tr>\n      <th>3528</th>\n      <td>0bb5b4d19c</td>\n      <td>1.000000</td>\n    </tr>\n    <tr>\n      <th>3529</th>\n      <td>e5f0e6ef4b</td>\n      <td>1.000000</td>\n    </tr>\n    <tr>\n      <th>3530</th>\n      <td>416863ce47</td>\n      <td>1.000000</td>\n    </tr>\n    <tr>\n      <th>3531</th>\n      <td>6332da480c</td>\n      <td>1.000000</td>\n    </tr>\n    <tr>\n      <th>3532</th>\n      <td>df1baec676</td>\n      <td>1.000000</td>\n    </tr>\n    <tr>\n      <th>3533</th>\n      <td>469e15c5a8</td>\n      <td>1.000000</td>\n    </tr>\n  </tbody>\n</table>\n<p>3534 rows × 2 columns</p>\n</div>",
            "text/plain": "              id  selected_text\n0     f87dea47db       1.000000\n1     96d74cb729       1.000000\n2     eee518ae67       0.150726\n3     01082688c6       1.000000\n4     33987a8ee5       1.000000\n5     726e501993       1.000000\n6     261932614e       1.000000\n7     afa11da83f       1.000000\n8     e64208b4ef       1.000000\n9     37bcad24ca       1.000000\n10    24c92644a4       1.000000\n11    43b390b336       0.029607\n12    69d6b5d93e       1.000000\n13    5c1e0b61a1       1.000000\n14    504e45d9d9       1.000000\n15    ae93ad52a0       0.000026\n16    9fce30159a       0.000000\n17    00d5195223       0.774203\n18    33f19050cf       1.000000\n19    f7718b3c23       1.000000\n20    9ef44428d0       0.000000\n21    be634ebeb0       0.000000\n22    3dcf4f7e13       1.000000\n23    f0ef04109b       1.000000\n24    8be365118e       1.000000\n25    c50bdd4567       1.000000\n26    334954f215       1.000000\n27    b783916431       1.000000\n28    1fa8e6ad66       1.000000\n29    be38b29042       1.000000\n...          ...            ...\n3504  fa117106ef       1.000000\n3505  f66bda14c6       1.000000\n3506  cf3dafabb3       0.999983\n3507  242910ff98       1.000000\n3508  60e5c2c335       1.000000\n3509  72b5155719       1.000000\n3510  bbfe533366       1.000000\n3511  4cb0ab19ed       1.000000\n3512  58e2a00ab8       0.000005\n3513  0a0e2a4f78       1.000000\n3514  975554343f       1.000000\n3515  c7be378db2       1.000000\n3516  87737f8e62       0.000000\n3517  558fe1316b       1.000000\n3518  a6687519e2       1.000000\n3519  91f8e27d4c       1.000000\n3520  9a10e4813f       1.000000\n3521  2b31cedc6d       1.000000\n3522  db783cf66a       0.003176\n3523  036cd6abb0       1.000000\n3524  e965e50c60       1.000000\n3525  b1c36b70a4       1.000000\n3526  4d2de9d1af       1.000000\n3527  0c2e7ab834       1.000000\n3528  0bb5b4d19c       1.000000\n3529  e5f0e6ef4b       1.000000\n3530  416863ce47       1.000000\n3531  6332da480c       1.000000\n3532  df1baec676       1.000000\n3533  469e15c5a8       1.000000\n\n[3534 rows x 2 columns]"
          },
          "metadata": {}
        }
      ]
    },
    {
      "metadata": {
        "trusted": true
      },
      "cell_type": "code",
      "source": "",
      "execution_count": null,
      "outputs": []
    }
  ],
  "metadata": {
    "kernelspec": {
      "name": "python36",
      "display_name": "Python 3.6",
      "language": "python"
    },
    "language_info": {
      "mimetype": "text/x-python",
      "nbconvert_exporter": "python",
      "name": "python",
      "pygments_lexer": "ipython3",
      "version": "3.6.6",
      "file_extension": ".py",
      "codemirror_mode": {
        "version": 3,
        "name": "ipython"
      }
    }
  },
  "nbformat": 4,
  "nbformat_minor": 2
}