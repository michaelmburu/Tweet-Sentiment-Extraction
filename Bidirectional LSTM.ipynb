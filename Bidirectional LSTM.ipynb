{
  "cells": [
    {
      "metadata": {
        "collapsed": true
      },
      "cell_type": "markdown",
      "source": "# Tweet Sentiment Classifier"
    },
    {
      "metadata": {},
      "cell_type": "markdown",
      "source": "Import Libraries"
    },
    {
      "metadata": {
        "trusted": true
      },
      "cell_type": "code",
      "source": "import sys, os, re, csv, codecs, numpy as np, pandas as pd\nimport nltk\nimport matplotlib.pyplot as plt\nnltk.download('stopwords')\nfrom keras.preprocessing.text import Tokenizer\nfrom keras.preprocessing.sequence import pad_sequences\nfrom keras.utils import to_categorical\nfrom keras.layers import Dense, Input, LSTM, Embedding, Flatten, Dropout, Activation, BatchNormalization, Bidirectional, GlobalMaxPool1D, Conv1D, MaxPooling1D, SimpleRNN\nfrom keras import initializers, regularizers, constraints, optimizers, layers\nfrom keras.models import Model, Sequential\nfrom nltk.corpus import stopwords\nfrom nltk import *\nfrom sklearn.feature_extraction.text import TfidfVectorizer\nfrom sklearn.preprocessing import LabelEncoder\nfrom sklearn.model_selection import train_test_split\nfrom nltk.stem import WordNetLemmatizer\n\nstopwords = nltk.corpus.stopwords.words('english')\npd.set_option('display.max_colwidth', 200)",
      "execution_count": 1,
      "outputs": [
        {
          "output_type": "stream",
          "text": "[nltk_data] Downloading package stopwords to /home/nbuser/nltk_data...\n[nltk_data]   Package stopwords is already up-to-date!\n",
          "name": "stdout"
        },
        {
          "output_type": "stream",
          "text": "Using TensorFlow backend.\n",
          "name": "stderr"
        }
      ]
    },
    {
      "metadata": {},
      "cell_type": "markdown",
      "source": "Import Data"
    },
    {
      "metadata": {
        "trusted": true,
        "scrolled": true
      },
      "cell_type": "code",
      "source": "train = pd.read_csv('train.csv')\ntest = pd.read_csv('test.csv')\ntrain.head(10)",
      "execution_count": 2,
      "outputs": [
        {
          "output_type": "execute_result",
          "execution_count": 2,
          "data": {
            "text/html": "<div>\n<style scoped>\n    .dataframe tbody tr th:only-of-type {\n        vertical-align: middle;\n    }\n\n    .dataframe tbody tr th {\n        vertical-align: top;\n    }\n\n    .dataframe thead th {\n        text-align: right;\n    }\n</style>\n<table border=\"1\" class=\"dataframe\">\n  <thead>\n    <tr style=\"text-align: right;\">\n      <th></th>\n      <th>textID</th>\n      <th>text</th>\n      <th>selected_text</th>\n      <th>sentiment</th>\n    </tr>\n  </thead>\n  <tbody>\n    <tr>\n      <th>0</th>\n      <td>cb774db0d1</td>\n      <td>I`d have responded, if I were going</td>\n      <td>I`d have responded, if I were going</td>\n      <td>neutral</td>\n    </tr>\n    <tr>\n      <th>1</th>\n      <td>549e992a42</td>\n      <td>Sooo SAD I will miss you here in San Diego!!!</td>\n      <td>Sooo SAD</td>\n      <td>negative</td>\n    </tr>\n    <tr>\n      <th>2</th>\n      <td>088c60f138</td>\n      <td>my boss is bullying me...</td>\n      <td>bullying me</td>\n      <td>negative</td>\n    </tr>\n    <tr>\n      <th>3</th>\n      <td>9642c003ef</td>\n      <td>what interview! leave me alone</td>\n      <td>leave me alone</td>\n      <td>negative</td>\n    </tr>\n    <tr>\n      <th>4</th>\n      <td>358bd9e861</td>\n      <td>Sons of ****, why couldn`t they put them on the releases we already bought</td>\n      <td>Sons of ****,</td>\n      <td>negative</td>\n    </tr>\n    <tr>\n      <th>5</th>\n      <td>28b57f3990</td>\n      <td>http://www.dothebouncy.com/smf - some shameless plugging for the best Rangers forum on earth</td>\n      <td>http://www.dothebouncy.com/smf - some shameless plugging for the best Rangers forum on earth</td>\n      <td>neutral</td>\n    </tr>\n    <tr>\n      <th>6</th>\n      <td>6e0c6d75b1</td>\n      <td>2am feedings for the baby are fun when he is all smiles and coos</td>\n      <td>fun</td>\n      <td>positive</td>\n    </tr>\n    <tr>\n      <th>7</th>\n      <td>50e14c0bb8</td>\n      <td>Soooo high</td>\n      <td>Soooo high</td>\n      <td>neutral</td>\n    </tr>\n    <tr>\n      <th>8</th>\n      <td>e050245fbd</td>\n      <td>Both of you</td>\n      <td>Both of you</td>\n      <td>neutral</td>\n    </tr>\n    <tr>\n      <th>9</th>\n      <td>fc2cbefa9d</td>\n      <td>Journey!? Wow... u just became cooler.  hehe... (is that possible!?)</td>\n      <td>Wow... u just became cooler.</td>\n      <td>positive</td>\n    </tr>\n  </tbody>\n</table>\n</div>",
            "text/plain": "       textID  \\\n0  cb774db0d1   \n1  549e992a42   \n2  088c60f138   \n3  9642c003ef   \n4  358bd9e861   \n5  28b57f3990   \n6  6e0c6d75b1   \n7  50e14c0bb8   \n8  e050245fbd   \n9  fc2cbefa9d   \n\n                                                                                           text  \\\n0                                                           I`d have responded, if I were going   \n1                                                 Sooo SAD I will miss you here in San Diego!!!   \n2                                                                     my boss is bullying me...   \n3                                                                what interview! leave me alone   \n4                    Sons of ****, why couldn`t they put them on the releases we already bought   \n5  http://www.dothebouncy.com/smf - some shameless plugging for the best Rangers forum on earth   \n6                              2am feedings for the baby are fun when he is all smiles and coos   \n7                                                                                    Soooo high   \n8                                                                                   Both of you   \n9                          Journey!? Wow... u just became cooler.  hehe... (is that possible!?)   \n\n                                                                                  selected_text  \\\n0                                                           I`d have responded, if I were going   \n1                                                                                      Sooo SAD   \n2                                                                                   bullying me   \n3                                                                                leave me alone   \n4                                                                                 Sons of ****,   \n5  http://www.dothebouncy.com/smf - some shameless plugging for the best Rangers forum on earth   \n6                                                                                           fun   \n7                                                                                    Soooo high   \n8                                                                                   Both of you   \n9                                                                  Wow... u just became cooler.   \n\n  sentiment  \n0   neutral  \n1  negative  \n2  negative  \n3  negative  \n4  negative  \n5   neutral  \n6  positive  \n7   neutral  \n8   neutral  \n9  positive  "
          },
          "metadata": {}
        }
      ]
    },
    {
      "metadata": {},
      "cell_type": "markdown",
      "source": "Drop na columns"
    },
    {
      "metadata": {
        "trusted": true
      },
      "cell_type": "code",
      "source": "train = train.dropna(how='any', axis=0)",
      "execution_count": 3,
      "outputs": []
    },
    {
      "metadata": {},
      "cell_type": "markdown",
      "source": "Remove Stop Words"
    },
    {
      "metadata": {
        "trusted": true
      },
      "cell_type": "code",
      "source": "train['text'] = train['text'].apply(lambda x: \" \".join(x for x in x.split() if x not in stopwords))\ntrain.head(10)",
      "execution_count": 4,
      "outputs": [
        {
          "output_type": "execute_result",
          "execution_count": 4,
          "data": {
            "text/html": "<div>\n<style scoped>\n    .dataframe tbody tr th:only-of-type {\n        vertical-align: middle;\n    }\n\n    .dataframe tbody tr th {\n        vertical-align: top;\n    }\n\n    .dataframe thead th {\n        text-align: right;\n    }\n</style>\n<table border=\"1\" class=\"dataframe\">\n  <thead>\n    <tr style=\"text-align: right;\">\n      <th></th>\n      <th>textID</th>\n      <th>text</th>\n      <th>selected_text</th>\n      <th>sentiment</th>\n    </tr>\n  </thead>\n  <tbody>\n    <tr>\n      <th>0</th>\n      <td>cb774db0d1</td>\n      <td>I`d responded, I going</td>\n      <td>I`d have responded, if I were going</td>\n      <td>neutral</td>\n    </tr>\n    <tr>\n      <th>1</th>\n      <td>549e992a42</td>\n      <td>Sooo SAD I miss San Diego!!!</td>\n      <td>Sooo SAD</td>\n      <td>negative</td>\n    </tr>\n    <tr>\n      <th>2</th>\n      <td>088c60f138</td>\n      <td>boss bullying me...</td>\n      <td>bullying me</td>\n      <td>negative</td>\n    </tr>\n    <tr>\n      <th>3</th>\n      <td>9642c003ef</td>\n      <td>interview! leave alone</td>\n      <td>leave me alone</td>\n      <td>negative</td>\n    </tr>\n    <tr>\n      <th>4</th>\n      <td>358bd9e861</td>\n      <td>Sons ****, couldn`t put releases already bought</td>\n      <td>Sons of ****,</td>\n      <td>negative</td>\n    </tr>\n    <tr>\n      <th>5</th>\n      <td>28b57f3990</td>\n      <td>http://www.dothebouncy.com/smf - shameless plugging best Rangers forum earth</td>\n      <td>http://www.dothebouncy.com/smf - some shameless plugging for the best Rangers forum on earth</td>\n      <td>neutral</td>\n    </tr>\n    <tr>\n      <th>6</th>\n      <td>6e0c6d75b1</td>\n      <td>2am feedings baby fun smiles coos</td>\n      <td>fun</td>\n      <td>positive</td>\n    </tr>\n    <tr>\n      <th>7</th>\n      <td>50e14c0bb8</td>\n      <td>Soooo high</td>\n      <td>Soooo high</td>\n      <td>neutral</td>\n    </tr>\n    <tr>\n      <th>8</th>\n      <td>e050245fbd</td>\n      <td>Both</td>\n      <td>Both of you</td>\n      <td>neutral</td>\n    </tr>\n    <tr>\n      <th>9</th>\n      <td>fc2cbefa9d</td>\n      <td>Journey!? Wow... u became cooler. hehe... (is possible!?)</td>\n      <td>Wow... u just became cooler.</td>\n      <td>positive</td>\n    </tr>\n  </tbody>\n</table>\n</div>",
            "text/plain": "       textID  \\\n0  cb774db0d1   \n1  549e992a42   \n2  088c60f138   \n3  9642c003ef   \n4  358bd9e861   \n5  28b57f3990   \n6  6e0c6d75b1   \n7  50e14c0bb8   \n8  e050245fbd   \n9  fc2cbefa9d   \n\n                                                                           text  \\\n0                                                        I`d responded, I going   \n1                                                  Sooo SAD I miss San Diego!!!   \n2                                                           boss bullying me...   \n3                                                        interview! leave alone   \n4                               Sons ****, couldn`t put releases already bought   \n5  http://www.dothebouncy.com/smf - shameless plugging best Rangers forum earth   \n6                                             2am feedings baby fun smiles coos   \n7                                                                    Soooo high   \n8                                                                          Both   \n9                     Journey!? Wow... u became cooler. hehe... (is possible!?)   \n\n                                                                                  selected_text  \\\n0                                                           I`d have responded, if I were going   \n1                                                                                      Sooo SAD   \n2                                                                                   bullying me   \n3                                                                                leave me alone   \n4                                                                                 Sons of ****,   \n5  http://www.dothebouncy.com/smf - some shameless plugging for the best Rangers forum on earth   \n6                                                                                           fun   \n7                                                                                    Soooo high   \n8                                                                                   Both of you   \n9                                                                  Wow... u just became cooler.   \n\n  sentiment  \n0   neutral  \n1  negative  \n2  negative  \n3  negative  \n4  negative  \n5   neutral  \n6  positive  \n7   neutral  \n8   neutral  \n9  positive  "
          },
          "metadata": {}
        }
      ]
    },
    {
      "metadata": {},
      "cell_type": "markdown",
      "source": "Delete Punctuations, Convert To Lower Case & Delete Double Space"
    },
    {
      "metadata": {
        "trusted": true
      },
      "cell_type": "code",
      "source": "train['text'] = train['text'].apply(lambda x: re.sub('[!@#$:).;,?&*/]', \"\", x.lower()))\ntrain['text'] = train['text'].apply(lambda x: re.sub(' ', ' ', x))\ntrain.head(10)",
      "execution_count": 5,
      "outputs": [
        {
          "output_type": "execute_result",
          "execution_count": 5,
          "data": {
            "text/html": "<div>\n<style scoped>\n    .dataframe tbody tr th:only-of-type {\n        vertical-align: middle;\n    }\n\n    .dataframe tbody tr th {\n        vertical-align: top;\n    }\n\n    .dataframe thead th {\n        text-align: right;\n    }\n</style>\n<table border=\"1\" class=\"dataframe\">\n  <thead>\n    <tr style=\"text-align: right;\">\n      <th></th>\n      <th>textID</th>\n      <th>text</th>\n      <th>selected_text</th>\n      <th>sentiment</th>\n    </tr>\n  </thead>\n  <tbody>\n    <tr>\n      <th>0</th>\n      <td>cb774db0d1</td>\n      <td>i`d responded i going</td>\n      <td>I`d have responded, if I were going</td>\n      <td>neutral</td>\n    </tr>\n    <tr>\n      <th>1</th>\n      <td>549e992a42</td>\n      <td>sooo sad i miss san diego</td>\n      <td>Sooo SAD</td>\n      <td>negative</td>\n    </tr>\n    <tr>\n      <th>2</th>\n      <td>088c60f138</td>\n      <td>boss bullying me</td>\n      <td>bullying me</td>\n      <td>negative</td>\n    </tr>\n    <tr>\n      <th>3</th>\n      <td>9642c003ef</td>\n      <td>interview leave alone</td>\n      <td>leave me alone</td>\n      <td>negative</td>\n    </tr>\n    <tr>\n      <th>4</th>\n      <td>358bd9e861</td>\n      <td>sons  couldn`t put releases already bought</td>\n      <td>Sons of ****,</td>\n      <td>negative</td>\n    </tr>\n    <tr>\n      <th>5</th>\n      <td>28b57f3990</td>\n      <td>httpwwwdothebouncycomsmf - shameless plugging best rangers forum earth</td>\n      <td>http://www.dothebouncy.com/smf - some shameless plugging for the best Rangers forum on earth</td>\n      <td>neutral</td>\n    </tr>\n    <tr>\n      <th>6</th>\n      <td>6e0c6d75b1</td>\n      <td>2am feedings baby fun smiles coos</td>\n      <td>fun</td>\n      <td>positive</td>\n    </tr>\n    <tr>\n      <th>7</th>\n      <td>50e14c0bb8</td>\n      <td>soooo high</td>\n      <td>Soooo high</td>\n      <td>neutral</td>\n    </tr>\n    <tr>\n      <th>8</th>\n      <td>e050245fbd</td>\n      <td>both</td>\n      <td>Both of you</td>\n      <td>neutral</td>\n    </tr>\n    <tr>\n      <th>9</th>\n      <td>fc2cbefa9d</td>\n      <td>journey wow u became cooler hehe (is possible</td>\n      <td>Wow... u just became cooler.</td>\n      <td>positive</td>\n    </tr>\n  </tbody>\n</table>\n</div>",
            "text/plain": "       textID  \\\n0  cb774db0d1   \n1  549e992a42   \n2  088c60f138   \n3  9642c003ef   \n4  358bd9e861   \n5  28b57f3990   \n6  6e0c6d75b1   \n7  50e14c0bb8   \n8  e050245fbd   \n9  fc2cbefa9d   \n\n                                                                     text  \\\n0                                                   i`d responded i going   \n1                                               sooo sad i miss san diego   \n2                                                        boss bullying me   \n3                                                   interview leave alone   \n4                              sons  couldn`t put releases already bought   \n5  httpwwwdothebouncycomsmf - shameless plugging best rangers forum earth   \n6                                       2am feedings baby fun smiles coos   \n7                                                              soooo high   \n8                                                                    both   \n9                           journey wow u became cooler hehe (is possible   \n\n                                                                                  selected_text  \\\n0                                                           I`d have responded, if I were going   \n1                                                                                      Sooo SAD   \n2                                                                                   bullying me   \n3                                                                                leave me alone   \n4                                                                                 Sons of ****,   \n5  http://www.dothebouncy.com/smf - some shameless plugging for the best Rangers forum on earth   \n6                                                                                           fun   \n7                                                                                    Soooo high   \n8                                                                                   Both of you   \n9                                                                  Wow... u just became cooler.   \n\n  sentiment  \n0   neutral  \n1  negative  \n2  negative  \n3  negative  \n4  negative  \n5   neutral  \n6  positive  \n7   neutral  \n8   neutral  \n9  positive  "
          },
          "metadata": {}
        }
      ]
    },
    {
      "metadata": {},
      "cell_type": "markdown",
      "source": "Seperate Training Text & Labels"
    },
    {
      "metadata": {
        "trusted": true
      },
      "cell_type": "code",
      "source": "list_sentences = train['text']\nlist_labels = train['sentiment']\ntrain = train[['text', 'sentiment']]\ntrain",
      "execution_count": 6,
      "outputs": [
        {
          "output_type": "execute_result",
          "execution_count": 6,
          "data": {
            "text/html": "<div>\n<style scoped>\n    .dataframe tbody tr th:only-of-type {\n        vertical-align: middle;\n    }\n\n    .dataframe tbody tr th {\n        vertical-align: top;\n    }\n\n    .dataframe thead th {\n        text-align: right;\n    }\n</style>\n<table border=\"1\" class=\"dataframe\">\n  <thead>\n    <tr style=\"text-align: right;\">\n      <th></th>\n      <th>text</th>\n      <th>sentiment</th>\n    </tr>\n  </thead>\n  <tbody>\n    <tr>\n      <th>0</th>\n      <td>i`d responded i going</td>\n      <td>neutral</td>\n    </tr>\n    <tr>\n      <th>1</th>\n      <td>sooo sad i miss san diego</td>\n      <td>negative</td>\n    </tr>\n    <tr>\n      <th>2</th>\n      <td>boss bullying me</td>\n      <td>negative</td>\n    </tr>\n    <tr>\n      <th>3</th>\n      <td>interview leave alone</td>\n      <td>negative</td>\n    </tr>\n    <tr>\n      <th>4</th>\n      <td>sons  couldn`t put releases already bought</td>\n      <td>negative</td>\n    </tr>\n    <tr>\n      <th>5</th>\n      <td>httpwwwdothebouncycomsmf - shameless plugging best rangers forum earth</td>\n      <td>neutral</td>\n    </tr>\n    <tr>\n      <th>6</th>\n      <td>2am feedings baby fun smiles coos</td>\n      <td>positive</td>\n    </tr>\n    <tr>\n      <th>7</th>\n      <td>soooo high</td>\n      <td>neutral</td>\n    </tr>\n    <tr>\n      <th>8</th>\n      <td>both</td>\n      <td>neutral</td>\n    </tr>\n    <tr>\n      <th>9</th>\n      <td>journey wow u became cooler hehe (is possible</td>\n      <td>positive</td>\n    </tr>\n    <tr>\n      <th>10</th>\n      <td>much love hopeful reckon chances minimal =p i`m never gonna get cake stuff</td>\n      <td>neutral</td>\n    </tr>\n    <tr>\n      <th>11</th>\n      <td>i really really like song love story taylor swift</td>\n      <td>positive</td>\n    </tr>\n    <tr>\n      <th>12</th>\n      <td>my sharpie running dangerously low ink</td>\n      <td>negative</td>\n    </tr>\n    <tr>\n      <th>13</th>\n      <td>want go music tonight lost voice</td>\n      <td>negative</td>\n    </tr>\n    <tr>\n      <th>14</th>\n      <td>test test lg env2</td>\n      <td>neutral</td>\n    </tr>\n    <tr>\n      <th>15</th>\n      <td>uh oh i sunburned</td>\n      <td>negative</td>\n    </tr>\n    <tr>\n      <th>16</th>\n      <td>s`ok trying plot alternatives speak sigh</td>\n      <td>negative</td>\n    </tr>\n    <tr>\n      <th>17</th>\n      <td>i`ve sick past days thus hair looks wierd didnt hat would look httptinyurlcommnf4kw</td>\n      <td>negative</td>\n    </tr>\n    <tr>\n      <th>18</th>\n      <td>back home gonna miss every one</td>\n      <td>negative</td>\n    </tr>\n    <tr>\n      <th>19</th>\n      <td>hes</td>\n      <td>neutral</td>\n    </tr>\n    <tr>\n      <th>20</th>\n      <td>oh marly i`m sorry i hope find soon &lt;3 &lt;3</td>\n      <td>neutral</td>\n    </tr>\n    <tr>\n      <th>21</th>\n      <td>playing ghost online really interesting the new updates kirin pet metamorph third job can`t wait dragon pet</td>\n      <td>positive</td>\n    </tr>\n    <tr>\n      <th>22</th>\n      <td>cleaning house family comming later today</td>\n      <td>neutral</td>\n    </tr>\n    <tr>\n      <th>23</th>\n      <td>gotta restart computer  i thought win7 supposed put end constant rebootiness</td>\n      <td>neutral</td>\n    </tr>\n    <tr>\n      <th>24</th>\n      <td>see wat i mean bout foll0w friidays it`s called lose f0llowers friday smh</td>\n      <td>neutral</td>\n    </tr>\n    <tr>\n      <th>25</th>\n      <td>free fillin` app ipod fun im addicted</td>\n      <td>positive</td>\n    </tr>\n    <tr>\n      <th>26</th>\n      <td>i`m sorry</td>\n      <td>negative</td>\n    </tr>\n    <tr>\n      <th>27</th>\n      <td>on way malaysiano internet access twit</td>\n      <td>negative</td>\n    </tr>\n    <tr>\n      <th>28</th>\n      <td>juss came backk berkeleyy  omg madd fun havent minute  whassqoodd</td>\n      <td>positive</td>\n    </tr>\n    <tr>\n      <th>29</th>\n      <td>went sleep power cut noida power back working</td>\n      <td>negative</td>\n    </tr>\n    <tr>\n      <th>...</th>\n      <td>...</td>\n      <td>...</td>\n    </tr>\n    <tr>\n      <th>27451</th>\n      <td>happy studying nighters payed</td>\n      <td>positive</td>\n    </tr>\n    <tr>\n      <th>27452</th>\n      <td>much day off- i`ve feet place day</td>\n      <td>neutral</td>\n    </tr>\n    <tr>\n      <th>27453</th>\n      <td>it`s beeen onee year</td>\n      <td>neutral</td>\n    </tr>\n    <tr>\n      <th>27454</th>\n      <td>_mayer i`d like see picture you carl john everyone read faces you`re proud love eachother</td>\n      <td>positive</td>\n    </tr>\n    <tr>\n      <th>27455</th>\n      <td>simple greetings unexpected people actually lighten mood doesn` ever happen you</td>\n      <td>positive</td>\n    </tr>\n    <tr>\n      <th>27456</th>\n      <td>wanna leave work already not feelin 2day</td>\n      <td>negative</td>\n    </tr>\n    <tr>\n      <th>27457</th>\n      <td>my camera brokennn</td>\n      <td>neutral</td>\n    </tr>\n    <tr>\n      <th>27458</th>\n      <td>i really wish someone would make groupchat theme adium suited irc ymous way low contrast</td>\n      <td>positive</td>\n    </tr>\n    <tr>\n      <th>27459</th>\n      <td>good as cya melbourne</td>\n      <td>positive</td>\n    </tr>\n    <tr>\n      <th>27460</th>\n      <td>scream played ipod first thing comes mind bear machineeeee lol</td>\n      <td>neutral</td>\n    </tr>\n    <tr>\n      <th>27461</th>\n      <td>thanks dear neighboor also gave coffee i needed it she best</td>\n      <td>positive</td>\n    </tr>\n    <tr>\n      <th>27462</th>\n      <td>just back bingo wfamily -- i 1100 fun night</td>\n      <td>positive</td>\n    </tr>\n    <tr>\n      <th>27463</th>\n      <td>like drew said 'give tc a chance' we will miss thomas but have to move on so watch this httpbitlyr6rfc</td>\n      <td>negative</td>\n    </tr>\n    <tr>\n      <th>27464</th>\n      <td>rec gametrying crythe pain muchi need himcan`t lose &lt;3my heart breakingg</td>\n      <td>negative</td>\n    </tr>\n    <tr>\n      <th>27465</th>\n      <td>sure i`ll try n keep up =p you enjoy studying cya</td>\n      <td>positive</td>\n    </tr>\n    <tr>\n      <th>27466</th>\n      <td>naw pretty tame only 1 guy costume voyager-style 'medical' uni disappointed weren`t costume</td>\n      <td>neutral</td>\n    </tr>\n    <tr>\n      <th>27467</th>\n      <td>morning twit-friends welcome new followers</td>\n      <td>positive</td>\n    </tr>\n    <tr>\n      <th>27468</th>\n      <td>grilled mushrooms olives feta cheese coffee breakfast try sleep now</td>\n      <td>neutral</td>\n    </tr>\n    <tr>\n      <th>27469</th>\n      <td>94 days till bh comes back la</td>\n      <td>neutral</td>\n    </tr>\n    <tr>\n      <th>27470</th>\n      <td>lol know hahadid fall asleep get bored shaun p joke</td>\n      <td>negative</td>\n    </tr>\n    <tr>\n      <th>27471</th>\n      <td>i`m defying gravity nobody alll oz wizard was ever gonna bring</td>\n      <td>neutral</td>\n    </tr>\n    <tr>\n      <th>27472</th>\n      <td>httptwitpiccom663vr - wanted visit animals late</td>\n      <td>negative</td>\n    </tr>\n    <tr>\n      <th>27473</th>\n      <td>spoke yesterday u didnt respond girl wassup though</td>\n      <td>neutral</td>\n    </tr>\n    <tr>\n      <th>27474</th>\n      <td>so i get early i feel good day i walk work i`m feeling alright but guess what i don`t work today</td>\n      <td>positive</td>\n    </tr>\n    <tr>\n      <th>27475</th>\n      <td>enjoy ur night</td>\n      <td>positive</td>\n    </tr>\n    <tr>\n      <th>27476</th>\n      <td>wish could come see u denver husband lost job can`t afford</td>\n      <td>negative</td>\n    </tr>\n    <tr>\n      <th>27477</th>\n      <td>i`ve wondered rake to the client made clear net only don`t force devs learn new lang agile ccnet</td>\n      <td>negative</td>\n    </tr>\n    <tr>\n      <th>27478</th>\n      <td>yay good you enjoy break - probably need hectic weekend take care hun xxxx</td>\n      <td>positive</td>\n    </tr>\n    <tr>\n      <th>27479</th>\n      <td>but worth</td>\n      <td>positive</td>\n    </tr>\n    <tr>\n      <th>27480</th>\n      <td>all flirting going - the atg smiles yay ((hugs</td>\n      <td>neutral</td>\n    </tr>\n  </tbody>\n</table>\n<p>27480 rows × 2 columns</p>\n</div>",
            "text/plain": "                                                                                                              text  \\\n0                                                                                            i`d responded i going   \n1                                                                                        sooo sad i miss san diego   \n2                                                                                                 boss bullying me   \n3                                                                                            interview leave alone   \n4                                                                       sons  couldn`t put releases already bought   \n5                                           httpwwwdothebouncycomsmf - shameless plugging best rangers forum earth   \n6                                                                                2am feedings baby fun smiles coos   \n7                                                                                                       soooo high   \n8                                                                                                             both   \n9                                                                    journey wow u became cooler hehe (is possible   \n10                                      much love hopeful reckon chances minimal =p i`m never gonna get cake stuff   \n11                                                               i really really like song love story taylor swift   \n12                                                                          my sharpie running dangerously low ink   \n13                                                                                want go music tonight lost voice   \n14                                                                                               test test lg env2   \n15                                                                                               uh oh i sunburned   \n16                                                                        s`ok trying plot alternatives speak sigh   \n17                             i`ve sick past days thus hair looks wierd didnt hat would look httptinyurlcommnf4kw   \n18                                                                                  back home gonna miss every one   \n19                                                                                                             hes   \n20                                                                       oh marly i`m sorry i hope find soon <3 <3   \n21     playing ghost online really interesting the new updates kirin pet metamorph third job can`t wait dragon pet   \n22                                                                       cleaning house family comming later today   \n23                                    gotta restart computer  i thought win7 supposed put end constant rebootiness   \n24                                       see wat i mean bout foll0w friidays it`s called lose f0llowers friday smh   \n25                                                                           free fillin` app ipod fun im addicted   \n26                                                                                                       i`m sorry   \n27                                                                          on way malaysiano internet access twit   \n28                                              juss came backk berkeleyy  omg madd fun havent minute  whassqoodd    \n29                                                                   went sleep power cut noida power back working   \n...                                                                                                            ...   \n27451                                                                                happy studying nighters payed   \n27452                                                                            much day off- i`ve feet place day   \n27453                                                                                         it`s beeen onee year   \n27454                    _mayer i`d like see picture you carl john everyone read faces you`re proud love eachother   \n27455                              simple greetings unexpected people actually lighten mood doesn` ever happen you   \n27456                                                                     wanna leave work already not feelin 2day   \n27457                                                                                           my camera brokennn   \n27458                     i really wish someone would make groupchat theme adium suited irc ymous way low contrast   \n27459                                                                                        good as cya melbourne   \n27460                                               scream played ipod first thing comes mind bear machineeeee lol   \n27461                                                  thanks dear neighboor also gave coffee i needed it she best   \n27462                                                                  just back bingo wfamily -- i 1100 fun night   \n27463       like drew said 'give tc a chance' we will miss thomas but have to move on so watch this httpbitlyr6rfc   \n27464                                     rec gametrying crythe pain muchi need himcan`t lose <3my heart breakingg   \n27465                                                            sure i`ll try n keep up =p you enjoy studying cya   \n27466                  naw pretty tame only 1 guy costume voyager-style 'medical' uni disappointed weren`t costume   \n27467                                                                   morning twit-friends welcome new followers   \n27468                                          grilled mushrooms olives feta cheese coffee breakfast try sleep now   \n27469                                                                                94 days till bh comes back la   \n27470                                                          lol know hahadid fall asleep get bored shaun p joke   \n27471                                               i`m defying gravity nobody alll oz wizard was ever gonna bring   \n27472                                                              httptwitpiccom663vr - wanted visit animals late   \n27473                                                           spoke yesterday u didnt respond girl wassup though   \n27474             so i get early i feel good day i walk work i`m feeling alright but guess what i don`t work today   \n27475                                                                                               enjoy ur night   \n27476                                                   wish could come see u denver husband lost job can`t afford   \n27477             i`ve wondered rake to the client made clear net only don`t force devs learn new lang agile ccnet   \n27478                                   yay good you enjoy break - probably need hectic weekend take care hun xxxx   \n27479                                                                                                   but worth    \n27480                                                               all flirting going - the atg smiles yay ((hugs   \n\n      sentiment  \n0       neutral  \n1      negative  \n2      negative  \n3      negative  \n4      negative  \n5       neutral  \n6      positive  \n7       neutral  \n8       neutral  \n9      positive  \n10      neutral  \n11     positive  \n12     negative  \n13     negative  \n14      neutral  \n15     negative  \n16     negative  \n17     negative  \n18     negative  \n19      neutral  \n20      neutral  \n21     positive  \n22      neutral  \n23      neutral  \n24      neutral  \n25     positive  \n26     negative  \n27     negative  \n28     positive  \n29     negative  \n...         ...  \n27451  positive  \n27452   neutral  \n27453   neutral  \n27454  positive  \n27455  positive  \n27456  negative  \n27457   neutral  \n27458  positive  \n27459  positive  \n27460   neutral  \n27461  positive  \n27462  positive  \n27463  negative  \n27464  negative  \n27465  positive  \n27466   neutral  \n27467  positive  \n27468   neutral  \n27469   neutral  \n27470  negative  \n27471   neutral  \n27472  negative  \n27473   neutral  \n27474  positive  \n27475  positive  \n27476  negative  \n27477  negative  \n27478  positive  \n27479  positive  \n27480   neutral  \n\n[27480 rows x 2 columns]"
          },
          "metadata": {}
        }
      ]
    },
    {
      "metadata": {},
      "cell_type": "markdown",
      "source": "# Data Preparation For Model Building"
    },
    {
      "metadata": {},
      "cell_type": "markdown",
      "source": "Train & Test Split With 80:20 Ratio"
    },
    {
      "metadata": {
        "trusted": true
      },
      "cell_type": "code",
      "source": "train_data, test_data = train_test_split(train, test_size=0.2)",
      "execution_count": 7,
      "outputs": []
    },
    {
      "metadata": {},
      "cell_type": "markdown",
      "source": "Define the sequence lengths, number of max words and embedding dimensions"
    },
    {
      "metadata": {},
      "cell_type": "markdown",
      "source": "1. Sequence length of each sentence. If more, truncate if less, pad with zeros"
    },
    {
      "metadata": {
        "trusted": true
      },
      "cell_type": "code",
      "source": "MAX_SEQUENCE_LENGTH = 300",
      "execution_count": 8,
      "outputs": []
    },
    {
      "metadata": {},
      "cell_type": "markdown",
      "source": "2. Number Of Max Words"
    },
    {
      "metadata": {},
      "cell_type": "markdown",
      "source": "- Top 20000 frequently occuring words"
    },
    {
      "metadata": {
        "trusted": true
      },
      "cell_type": "code",
      "source": "MAX_NB_WORDS = 20000",
      "execution_count": 9,
      "outputs": []
    },
    {
      "metadata": {},
      "cell_type": "markdown",
      "source": "- Get frequently Occuring Words"
    },
    {
      "metadata": {
        "trusted": true
      },
      "cell_type": "code",
      "source": "tokenizer = Tokenizer(num_words=MAX_NB_WORDS)\ntokenizer.fit_on_texts(train.text)\ntrain_sequences = tokenizer.texts_to_sequences(train_data.text)\ntest_sequences = tokenizer.texts_to_sequences(test_data.text)",
      "execution_count": 10,
      "outputs": []
    },
    {
      "metadata": {},
      "cell_type": "markdown",
      "source": "Create a dictionary containing words and their index"
    },
    {
      "metadata": {
        "trusted": true
      },
      "cell_type": "code",
      "source": "word_index = tokenizer.word_index\nprint('Found {} unique tokens.'.format(len(word_index)))",
      "execution_count": 11,
      "outputs": [
        {
          "output_type": "stream",
          "text": "Found 28976 unique tokens.\n",
          "name": "stdout"
        }
      ]
    },
    {
      "metadata": {},
      "cell_type": "markdown",
      "source": "Get The Top Frequent Words On Train"
    },
    {
      "metadata": {
        "trusted": true
      },
      "cell_type": "code",
      "source": "training_data = pad_sequences(train_sequences, maxlen=MAX_SEQUENCE_LENGTH)",
      "execution_count": 12,
      "outputs": []
    },
    {
      "metadata": {},
      "cell_type": "markdown",
      "source": "Get The Top Frequent Words On Test"
    },
    {
      "metadata": {
        "trusted": true
      },
      "cell_type": "code",
      "source": "testing_data = pad_sequences(test_sequences, maxlen=MAX_SEQUENCE_LENGTH)",
      "execution_count": 13,
      "outputs": []
    },
    {
      "metadata": {
        "trusted": true
      },
      "cell_type": "code",
      "source": "print(training_data.shape)\nprint(testing_data.shape)",
      "execution_count": 14,
      "outputs": [
        {
          "output_type": "stream",
          "text": "(21984, 300)\n(5496, 300)\n",
          "name": "stdout"
        }
      ]
    },
    {
      "metadata": {
        "trusted": true
      },
      "cell_type": "code",
      "source": "train_labels = train_data['sentiment']\ntest_labels = test_data['sentiment']\n",
      "execution_count": 15,
      "outputs": []
    },
    {
      "metadata": {},
      "cell_type": "markdown",
      "source": "Convert Sentiment From Character Array To Numeric Array"
    },
    {
      "metadata": {
        "trusted": true
      },
      "cell_type": "code",
      "source": "le = LabelEncoder()\nle.fit(train_labels)\ntrain_labels = le.transform(train_labels)\ntest_labels = le.transform(test_labels)\n\nprint(le.classes_)\nprint(np.unique(train_labels, return_counts=True))\nprint(np.unique(test_labels, return_counts=True))",
      "execution_count": 16,
      "outputs": [
        {
          "output_type": "stream",
          "text": "['negative' 'neutral' 'positive']\n(array([0, 1, 2]), array([6236, 8900, 6848]))\n(array([0, 1, 2]), array([1545, 2217, 1734]))\n",
          "name": "stdout"
        }
      ]
    },
    {
      "metadata": {},
      "cell_type": "markdown",
      "source": "Changing Data Types"
    },
    {
      "metadata": {
        "trusted": true
      },
      "cell_type": "code",
      "source": "labels_train = to_categorical(np.asarray(train_labels))\nlabels_test = to_categorical(np.asarray(test_labels))\n\nprint('Shape of data tensor. ', training_data.shape)\nprint('Shape of data tensor. ', labels_train.shape)\nprint('Shape of data tensor. ', labels_test.shape)",
      "execution_count": 17,
      "outputs": [
        {
          "output_type": "stream",
          "text": "Shape of data tensor.  (21984, 300)\nShape of data tensor.  (21984, 3)\nShape of data tensor.  (5496, 3)\n",
          "name": "stdout"
        }
      ]
    },
    {
      "metadata": {
        "trusted": true
      },
      "cell_type": "code",
      "source": "EMBEDDING_DIM = 100\nprint(MAX_SEQUENCE_LENGTH)",
      "execution_count": 18,
      "outputs": [
        {
          "output_type": "stream",
          "text": "300\n",
          "name": "stdout"
        }
      ]
    },
    {
      "metadata": {},
      "cell_type": "markdown",
      "source": "# Model Building & Predicting"
    },
    {
      "metadata": {
        "trusted": true
      },
      "cell_type": "code",
      "source": "model = Sequential()\nmodel.add(Embedding(MAX_NB_WORDS,\nEMBEDDING_DIM,\ninput_length=MAX_SEQUENCE_LENGTH\n))\nmodel.add(Bidirectional(LSTM(60, return_sequences=True,\ndropout=0.1, recurrent_dropout=0.1)))\nmodel.add(Conv1D(32, kernel_size = 3, padding = \"valid\",\nkernel_initializer = \"glorot_uniform\"))\nmodel.add(GlobalMaxPool1D())\nmodel.add(Dense(60, activation=\"relu\"))\nmodel.add(Dropout(0.1))\nmodel.add(Dense(3,activation='softmax'))\nmodel.compile(loss = 'binary_crossentropy',\noptimizer='adam',metrics = ['accuracy'])\nmodel.fit(training_data, labels_train,\nbatch_size=32,\nepochs=3,\nvalidation_data=(testing_data, labels_test))",
      "execution_count": null,
      "outputs": [
        {
          "output_type": "stream",
          "text": "/home/nbuser/anaconda3_501/lib/python3.6/site-packages/tensorflow/python/framework/indexed_slices.py:414: UserWarning: Converting sparse IndexedSlices to a dense Tensor of unknown shape. This may consume a large amount of memory.\n  \"Converting sparse IndexedSlices to a dense Tensor of unknown shape. \"\n",
          "name": "stderr"
        },
        {
          "output_type": "stream",
          "text": "Train on 21984 samples, validate on 5496 samples\nEpoch 1/3\n21968/21984 [============================>.] - ETA: 0s - loss: 0.4646 - accuracy: 0.7824",
          "name": "stdout"
        }
      ]
    },
    {
      "metadata": {
        "trusted": true
      },
      "cell_type": "code",
      "source": "",
      "execution_count": null,
      "outputs": []
    },
    {
      "metadata": {
        "trusted": true
      },
      "cell_type": "code",
      "source": "",
      "execution_count": null,
      "outputs": []
    }
  ],
  "metadata": {
    "kernelspec": {
      "name": "python36",
      "display_name": "Python 3.6",
      "language": "python"
    },
    "language_info": {
      "mimetype": "text/x-python",
      "nbconvert_exporter": "python",
      "name": "python",
      "pygments_lexer": "ipython3",
      "version": "3.6.6",
      "file_extension": ".py",
      "codemirror_mode": {
        "version": 3,
        "name": "ipython"
      }
    }
  },
  "nbformat": 4,
  "nbformat_minor": 2
}